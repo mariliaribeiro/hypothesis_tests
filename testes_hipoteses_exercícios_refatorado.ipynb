{
  "nbformat": 4,
  "nbformat_minor": 0,
  "metadata": {
    "colab": {
      "name": "teste_hipoteses_exercícios_refatorado.ipynb",
      "provenance": [],
      "collapsed_sections": [
        "o0EXHiDo50PO",
        "OfpoBEHn7791",
        "f3V4T3W18cP7",
        "Fwb3lGzBwgDo"
      ],
      "authorship_tag": "ABX9TyPhCiM22VMBTyJDviPaEX4z",
      "include_colab_link": true
    },
    "kernelspec": {
      "name": "python3",
      "display_name": "Python 3"
    },
    "language_info": {
      "name": "python"
    }
  },
  "cells": [
    {
      "cell_type": "markdown",
      "metadata": {
        "id": "view-in-github",
        "colab_type": "text"
      },
      "source": [
        "<a href=\"https://colab.research.google.com/github/mariliaribeiro/hypothesis_tests/blob/main/testes_hipoteses_exerc%C3%ADcios_refatorado.ipynb\" target=\"_parent\"><img src=\"https://colab.research.google.com/assets/colab-badge.svg\" alt=\"Open In Colab\"/></a>"
      ]
    },
    {
      "cell_type": "code",
      "metadata": {
        "id": "o3wabYdmOlMb",
        "colab": {
          "base_uri": "https://localhost:8080/"
        },
        "outputId": "10c294eb-9ada-4976-d548-bd2cc6efd8ec"
      },
      "source": [
        "%load_ext rpy2.ipython"
      ],
      "execution_count": 89,
      "outputs": [
        {
          "output_type": "stream",
          "text": [
            "The rpy2.ipython extension is already loaded. To reload it, use:\n",
            "  %reload_ext rpy2.ipython\n"
          ],
          "name": "stdout"
        }
      ]
    },
    {
      "cell_type": "code",
      "metadata": {
        "id": "LkLu0HslkC2k",
        "cellView": "form"
      },
      "source": [
        "#@title Instalação de bibliotecas\n",
        "%%R \n",
        "install.packages(\"distributions3\")\n",
        "\n",
        "if (!require(\"devtools\")) install.packages(\"devtools\")\n",
        "devtools::install_github(\"mkuhn/dict\")"
      ],
      "execution_count": null,
      "outputs": []
    },
    {
      "cell_type": "code",
      "metadata": {
        "id": "uEGOV4MGSLmk",
        "cellView": "form"
      },
      "source": [
        "#@title Declara uso das bibliotecas\n",
        "%%R \n",
        "library(distributions3)\n",
        "library(dict)"
      ],
      "execution_count": 91,
      "outputs": []
    },
    {
      "cell_type": "code",
      "metadata": {
        "id": "tX2SR9M-HMJq"
      },
      "source": [
        "%%R\n",
        "options(scipen=999)"
      ],
      "execution_count": 92,
      "outputs": []
    },
    {
      "cell_type": "code",
      "metadata": {
        "id": "Qxdi-Y0ctyNh",
        "cellView": "form"
      },
      "source": [
        "#@title Funções base: Z crítico, T crítico e p-value\n",
        "%%R \n",
        "\n",
        "get_z_critical <- function(z_stat, h1_signal='<>', alpha=0.05){\n",
        "  if (h1_signal == '>') {\n",
        "      z_critical <- qnorm(p=alpha, lower.tail=FALSE)\n",
        "      z_accept_h1 <- z_stat > z_critical\n",
        "  } else if (h1_signal == '<') {\n",
        "    z_critical <- qnorm(p=alpha, lower.tail=TRUE)\n",
        "    z_accept_h1 <- z_stat < z_critical\n",
        "  } else {\n",
        "      z_critical <- qnorm(p=alpha/2, lower.tail=FALSE)\n",
        "      z_accept_h1 <- (abs(z_stat) > abs(z_critical)) | (-abs(z_stat) < -abs(z_critical))\n",
        "  }\n",
        "  cat('\\nz_stat = ', z_stat, '  z_critical = ', z_critical, 'Accept H1? R.: ', z_accept_h1)\n",
        "  \n",
        "  return(z_critical)\n",
        "}\n",
        "\n",
        "\n",
        "# https://www.statology.org/t-critical-value-r/\n",
        "get_t_critical <- function(t_stat, df, h1_signal='<>', alpha=0.05){\n",
        "  if (h1_signal == '>') {\n",
        "      t_critical <- qt(p=alpha, df=df, lower.tail=FALSE)\n",
        "      t_accept_h1 <- t_stat > t_critical\n",
        "  } else if (h1_signal == '<') {\n",
        "    t_critical <- qt(p=alpha, df=df, lower.tail=TRUE)\n",
        "    t_accept_h1 <- t_stat < t_critical\n",
        "  } else {\n",
        "      t_critical <- qt(p=alpha/2, df=df, lower.tail=FALSE)\n",
        "      t_accept_h1 <- (abs(t_stat) > abs(t_critical)) | (-abs(t_stat) < -abs(t_critical))\n",
        "  }\n",
        "  cat('\\nt_stat = ', t_stat, '  t_critical = ', t_critical, 'Accept H1? R.: ', t_accept_h1)\n",
        "  \n",
        "  return(t_critical)\n",
        "}\n",
        "\n",
        "\n",
        "# necessário instanciar \n",
        "# Z <- Normal(0, 1)\n",
        "# T <- StudentsT(df=df) \n",
        "# method = Z ou T\n",
        "\n",
        "get_p_value <- function(stat_value, method,h1_signal='<>', alpha=0.05){\n",
        "  if (h1_signal == '>') {\n",
        "    p_value <- 1 - cdf(method, stat_value)\n",
        "  } else if (h1_signal == '<') {\n",
        "      p_value <- cdf(method, stat_value)\n",
        "  } else {\n",
        "      p_value <- 2 * cdf(method, -abs(stat_value))\n",
        "  }  \n",
        "  p_accept_h1 <- p_value <= alpha\n",
        "  cat('\\np_value <= alpha? p-value =', p_value, 'alpha =', alpha, '  Accept H1? R.: ', p_accept_h1)  \n",
        "  \n",
        "  return(p_value)\n",
        "}"
      ],
      "execution_count": 93,
      "outputs": []
    },
    {
      "cell_type": "markdown",
      "metadata": {
        "id": "trtw3u6wgaEH"
      },
      "source": [
        "# Testes para uma amostra"
      ]
    },
    {
      "cell_type": "code",
      "metadata": {
        "id": "Rwq5xhxarDRI",
        "colab": {
          "base_uri": "https://localhost:8080/"
        },
        "cellView": "form",
        "outputId": "262de895-5d5e-417a-f849-78588a3a612b"
      },
      "source": [
        "#@title Teste Z para média de uma amostra\n",
        "# https://cran.r-project.org/web/packages/distributions3/vignettes/one-sample-z-test.html\n",
        "\n",
        "#@markdown `one_sample_z_test(n, sd, mean_sample, mean_0, h1_signal='<>', alpha=0.05)`\n",
        "\n",
        "\n",
        "\n",
        "%%R\n",
        "# install.packages(\"distributions3\")\n",
        "# library(distributions3)\n",
        "\n",
        "one_sample_z_test <- function(n, sd, mean_sample, mean_0, h1_signal='<>', alpha=0.05){\n",
        "  # h1_signal <- '<', '>','<>'\n",
        "  z_stat <- (mean_sample - mean_0) / (sd / sqrt(n))\n",
        "  z_critical <- get_z_critical(z_stat, h1_signal,alpha)  \n",
        "  Z <- Normal(0, 1)\n",
        "  p_value <- get_p_value(z_stat, Z, h1_signal,alpha)\n",
        "\n",
        "  E = (abs(z_critical) * sd / sqrt(n))\n",
        "  ic_min <- mean_sample - E\n",
        "  ic_max <- mean_sample + E\n",
        "  ic_accept_h1 = !(mean_0 > ic_min & mean_0 < ic_max)\n",
        "  cat('\\nE = ', E, 'IC = [', ic_min, '; ', ic_max, ']', 'Accept H1? R.: ', ic_accept_h1)\n",
        "}\n",
        "\n",
        "x <- c(3, 7, 11, 0, 7, 0, 4, 5, 6, 2)\n",
        "dp <- 2\n",
        "mean_0 <- 3\n",
        "\n",
        "# H0: mean = 3\n",
        "# H1: mean <> 3\n",
        "\n",
        "one_sample_z_test(n=length(x), sd=dp, mean_sample=mean(x), mean_0=mean_0, h1_signal='<>', alpha=0.05)"
      ],
      "execution_count": 94,
      "outputs": [
        {
          "output_type": "stream",
          "text": [
            "\n",
            "z_stat =  2.371708   z_critical =  1.959964 Accept H1? R.:  TRUE\n",
            "p_value <= alpha? p-value = 0.01770607 alpha = 0.05   Accept H1? R.:  TRUE\n",
            "E =  1.23959 IC = [ 3.26041 ;  5.73959 ] Accept H1? R.:  TRUE"
          ],
          "name": "stdout"
        }
      ]
    },
    {
      "cell_type": "code",
      "metadata": {
        "id": "FmsIN22I6kB8",
        "colab": {
          "base_uri": "https://localhost:8080/"
        },
        "cellView": "form",
        "outputId": "3151544b-ad85-4db2-e925-726b27712ed7"
      },
      "source": [
        "#@title Teste Z para proporção de uma amostra\n",
        "\n",
        "#@markdown `one_sample_z_proportion_test(n, pi, pi_0, h1_signal='<>', alpha=0.05)`\n",
        "\n",
        "%%R\n",
        "# install.packages(\"distributions3\")\n",
        "# library(distributions3)\n",
        "\n",
        "\n",
        "one_sample_z_proportion_test <- function(n, pi, pi_0, h1_signal='<>', alpha=0.05){\n",
        "  # h1_signal <- '<', '>','<>'\n",
        "  cat('n * pi > 5 = ', (n * pi > 5))\n",
        "  cat('\\n')\n",
        "  cat('n * (1 - pi) > 5 = ', (n * (1 - pi) > 5))\n",
        "  cat('\\n')\n",
        "  \n",
        "  z_stat <- (pi - pi_0) / sqrt(pi_0 * (1 - pi_0) / n)\n",
        "  z_critical <- get_z_critical(z_stat, h1_signal,alpha)  \n",
        "  Z <- Normal(0, 1)\n",
        "  p_value <- get_p_value(z_stat, Z, h1_signal,alpha)\n",
        "\n",
        "  E = abs(z_critical) * sqrt(pi * (1 - pi) / n)\n",
        "  ic_min <- pi - E\n",
        "  ic_max <- pi + E \n",
        "  ic_accept_h1 = !(pi_0 > ic_min & pi_0 < ic_max )\n",
        "  cat('\\nE = ', E, 'IC = [', ic_min, '; ', ic_max, ']', 'Accept H1? R.: ', ic_accept_h1)\n",
        "}\n",
        "\n",
        "\n",
        "\n",
        "n <- 62\n",
        "pi <- 17 / 62\n",
        "pi_0 <- 0.2\n",
        "# H0: p = 0.2\n",
        "# HA: p ≠ 0.2\n",
        "\n",
        "one_sample_z_proportion_test(n=n, pi=pi, pi_0=pi_0)"
      ],
      "execution_count": 95,
      "outputs": [
        {
          "output_type": "stream",
          "text": [
            "n * pi > 5 =  TRUE\n",
            "n * (1 - pi) > 5 =  TRUE\n",
            "\n",
            "z_stat =  1.460501   z_critical =  1.959964 Accept H1? R.:  FALSE\n",
            "p_value <= alpha? p-value = 0.1441523 alpha = 0.05   Accept H1? R.:  FALSE\n",
            "E =  0.111043 IC = [ 0.1631505 ;  0.3852366 ] Accept H1? R.:  FALSE"
          ],
          "name": "stdout"
        }
      ]
    },
    {
      "cell_type": "code",
      "metadata": {
        "id": "4_--B3T_EAgU",
        "colab": {
          "base_uri": "https://localhost:8080/"
        },
        "cellView": "form",
        "outputId": "8c4bd391-f707-40c9-c5a4-5b0941632543"
      },
      "source": [
        "#@title Teste t para média de uma amostra\n",
        "# https://cran.r-project.org/web/packages/distributions3/vignettes/one-sample-t-test.html\n",
        "\n",
        "#@markdown `one_sample_t_test(n, sd, mean_sample, mean_0, h1_signal='<>', alpha=0.05)`\n",
        "\n",
        "%%R\n",
        "# install.packages(\"distributions3\")\n",
        "# library(distributions3)\n",
        "\n",
        "one_sample_t_test <- function(n, sd, mean_sample, mean_0, h1_signal='<>', alpha=0.05){\n",
        "  # h1_signal <- '<', '>','<>'\n",
        "  t_stat <- (mean_sample - mean_0) / (sd / sqrt(n))  \n",
        "  df = n -1\n",
        "  cat('\\ndf = ', df)\n",
        "  t_critical <- get_t_critical(t_stat, df, h1_signal, alpha)\n",
        "  T <- StudentsT(df=df) \n",
        "  p_value <- get_p_value(t_stat, T, h1_signal,alpha)\n",
        "\n",
        "  E = abs(t_critical) *  sd / sqrt(n)\n",
        "  ic_min <- mean_0 - E\n",
        "  ic_max <- mean_0 + E\n",
        "  ic_accept_h1 = !(mean_0 > ic_min & mean_0 < ic_max)\n",
        "  cat('\\nE = ', E, 'IC = [', ic_min, '; ', ic_max, ']', 'Accept H1? R.: ', ic_accept_h1)\n",
        "}\n",
        "\n",
        "x <- c(3, 7, 11, 0, 7, 0, 4, 5, 6, 2)\n",
        "mean_0 <- 3\n",
        "# H0:μ=3\n",
        "# HA:μ≠3\n",
        "\n",
        "one_sample_t_test(n=length(x), sd=sd(x), mean_sample=mean(x), mean_0=mean_0)"
      ],
      "execution_count": 96,
      "outputs": [
        {
          "output_type": "stream",
          "text": [
            "\n",
            "df =  9\n",
            "t_stat =  1.378916   t_critical =  2.262157 Accept H1? R.:  FALSE\n",
            "p_value <= alpha? p-value = 0.2012211 alpha = 0.05   Accept H1? R.:  FALSE\n",
            "E =  2.4608 IC = [ 0.5392 ;  5.4608 ] Accept H1? R.:  FALSE"
          ],
          "name": "stdout"
        }
      ]
    },
    {
      "cell_type": "markdown",
      "metadata": {
        "id": "BXMtpT3bgtyc"
      },
      "source": [
        "#Duas amostras"
      ]
    },
    {
      "cell_type": "code",
      "metadata": {
        "id": "GVP2lRsT2DqG",
        "colab": {
          "base_uri": "https://localhost:8080/"
        },
        "cellView": "form",
        "outputId": "1c2ce7aa-1ee3-4b9e-8d6d-5f1057e2cf69"
      },
      "source": [
        "#@title Teste Z para média de duas amostras\n",
        "# https://cran.r-project.org/web/packages/distributions3/vignettes/two-sample-z-test.html\n",
        "\n",
        "#@markdown `two_sample_z_test(n_1, n_2, mean_1, mean_2, var_1, var_2, delta_0=0, h1_signal='<>', alpha=0.05)`\n",
        "\n",
        "%%R\n",
        "# install.packages(\"distributions3\")\n",
        "# library(distributions3)\n",
        "\n",
        "two_sample_z_test <- function(n_1, n_2, mean_1, mean_2, var_1, var_2, delta_0=0, h1_signal='<>', alpha=0.05){\n",
        "  # h1_signal <- '<', '>','<>'\n",
        "  \n",
        "  z_stat <- (mean_1 - mean_2 - delta_0)/sqrt((var_1/n_1) + (var_2/n_2))\n",
        "  z_critical <- get_z_critical(z_stat, h1_signal,alpha)  \n",
        "  Z <- Normal(0, 1)\n",
        "  p_value <- get_p_value(z_stat, Z, h1_signal,alpha)\n",
        "\n",
        "  E = abs(z_critical) * sqrt((var_1/n_1) + (var_2/n_2))\n",
        "  ic_min <- (mean_1 - mean_2) - E\n",
        "  ic_max <- (mean_1 - mean_2) + E\n",
        "  ic_accept_h1 = !(0 > ic_min & 0 < ic_max)\n",
        "  cat('\\nE = ', E, 'IC = [', ic_min, '; ', ic_max, ']', 'Accept H1? R.: ', ic_accept_h1)\n",
        "  \n",
        "  # return(p_value)\n",
        "}\n",
        "\n",
        "biology <- c(3, 7, 11, 0, 7, 0, 4, 5, 6, 2, 4, 7, 2, 9) # 1\n",
        "english <- c(8, 5, 4, 10, 4, 5, 7, 2, 6, 1, 2, 7, 0, 6, 4, 12, 5, 2) # 2\n",
        "\n",
        "n_biology <- 14\n",
        "n_english <- 18\n",
        "\n",
        "var_biology <- 3\n",
        "var_english <- 2\n",
        "\n",
        "# H0: mean_1 - mean_2 = 0 \n",
        "# H1: mean_1 - mean_2 <> 0 \n",
        "\n",
        "\n",
        "two_sample_z_test(n_1=n_biology, n_2=n_english, mean_1=mean(biology), mean_2=mean(english), var_1=var_biology, var_2=var_english, delta_0=0, h1_signal='<>', alpha=0.05)"
      ],
      "execution_count": 97,
      "outputs": [
        {
          "output_type": "stream",
          "text": [
            "\n",
            "z_stat =  -0.3756527   z_critical =  1.959964 Accept H1? R.:  FALSE\n",
            "p_value <= alpha? p-value = 0.7071751 alpha = 0.05   Accept H1? R.:  FALSE\n",
            "E =  1.118033 IC = [ -1.332319 ;  0.9037476 ] Accept H1? R.:  FALSE"
          ],
          "name": "stdout"
        }
      ]
    },
    {
      "cell_type": "code",
      "metadata": {
        "id": "H46G41Bb71uj",
        "colab": {
          "base_uri": "https://localhost:8080/"
        },
        "cellView": "form",
        "outputId": "31fb0b38-1feb-4557-f8f4-19bf030cdb1c"
      },
      "source": [
        "#@title Teste Z para proporção de duas amostras\n",
        "\n",
        "#@markdown `two_sample_z_proportion_test(n_1, n_2, p_1, p_2, h1_signal='<>', alpha=0.05)`\n",
        "\n",
        "%%R\n",
        "# install.packages(\"distributions3\")\n",
        "# library(distributions3)\n",
        "\n",
        "two_sample_z_proportion_test <- function(n_1, n_2, p_1, p_2, h1_signal='<>', alpha=0.05){\n",
        "  # h1_signal <- '<', '>','<>'\n",
        "  p <- ((n_1 * p_1) + (n_2 * p_2))/ (n_1 + n_2)\n",
        "  cat('p_^ = ', p,'\\n')\n",
        "  z_stat <- (p_1 - p_2) / sqrt(((p * (1 - p))/ n_1) + ((p * (1 - p))/ n_2))  \n",
        "  z_critical <- get_z_critical(z_stat, h1_signal,alpha)  \n",
        "  Z <- Normal(0, 1)\n",
        "  p_value <- get_p_value(z_stat, Z, h1_signal,alpha)\n",
        "\n",
        "  E = abs(z_critical) * sqrt(((p * (1 - p))/ n_1) + ((p * (1 - p))/ n_2))\n",
        "  ic_min <- (p_1 - p_2) - E\n",
        "  ic_max <- (p_1 - p_2) + E  \n",
        "  ic_accept_h1 = !(0 > ic_min & 0 < ic_max)\n",
        "  cat('\\nE = ', E, 'IC = [', ic_min, '; ', ic_max, ']', 'Aceept H1? R.: ', ic_accept_h1)\n",
        "}\n",
        "\n",
        "two_sample_z_proportion_test(n_1=134, n_2=145, p_1=122/134, p_2=127/145, h1_signal='>', alpha=0.1)"
      ],
      "execution_count": 98,
      "outputs": [
        {
          "output_type": "stream",
          "text": [
            "p_^ =  0.8924731 \n",
            "\n",
            "z_stat =  0.9316969   z_critical =  1.281552 Accept H1? R.:  FALSE\n",
            "p_value <= alpha? p-value = 0.1757466 alpha = 0.1   Accept H1? R.:  FALSE\n",
            "E =  0.04757271 IC = [ -0.01298702 ;  0.0821584 ] Aceept H1? R.:  FALSE"
          ],
          "name": "stdout"
        }
      ]
    },
    {
      "cell_type": "code",
      "metadata": {
        "colab": {
          "base_uri": "https://localhost:8080/"
        },
        "id": "hX1-5tkbWnt5",
        "outputId": "b1d9938a-849a-47d0-ff82-bb36baf1245b"
      },
      "source": [
        "#@title Teste t para média de duas amostras pareadas (dependentes)\n",
        "\n",
        "#@markdown `t.test(antes, depois, paired=TRUE, conf.level=0.99, alternative='two.sided')`\n",
        "\n",
        "#@markdown paired = FALSE -> por default o teste admite que os grupos não sejam pareados\n",
        "\n",
        "#@markdown conf.level = 0.95 -> por default o teste admite um nível de confiança de 95% (ou α= 5%)\n",
        "\n",
        "#@markdown alternative = two.sided - > por default o teste é bicaudal, podemos escolher também “greater” ou “less”\n",
        "\n",
        "\n",
        "\n",
        "%%R\n",
        "antes  <- c(16, 15, 11, 20, 19, 14, 13, 15, 14, 16)\n",
        "depois <- c(13, 13, 12, 16, 16, 11, 10, 15, 9, 16)\n",
        " \n",
        "\n",
        "t.test(antes, depois, paired=TRUE, conf.level=0.99, alternative='two.sided')"
      ],
      "execution_count": 99,
      "outputs": [
        {
          "output_type": "stream",
          "text": [
            "\n",
            "\tPaired t-test\n",
            "\n",
            "data:  antes and depois\n",
            "t = 3.6006, df = 9, p-value = 0.005743\n",
            "alternative hypothesis: true difference in means is not equal to 0\n",
            "99 percent confidence interval:\n",
            " 0.2143177 4.1856823\n",
            "sample estimates:\n",
            "mean of the differences \n",
            "                    2.2 \n",
            "\n"
          ],
          "name": "stdout"
        }
      ]
    },
    {
      "cell_type": "code",
      "metadata": {
        "id": "MRUvJETVNFKy"
      },
      "source": [
        "#@title Teste t para média de duas amostras não pareadas (independentes)\n",
        "\n",
        "#@markdown `two_sample_t_test_heterocedastico(n_1, n_2, mean_1, mean_2, var_1, var_2, h1_signal='<>', alpha=0.05)`\n",
        "\n",
        "#@markdown `two_sample_t_test_homocedastico(n_1, n_2, mean_1, mean_2, var_1, var_2, h1_signal='<>', alpha=0.05)`\n",
        "\n",
        "#@markdown Como saber se as duas populações têm variâncias iguais (homocedásticas) ou não(heterocedásticas)? Utilizar teste F.\n",
        "\n",
        "%%R\n",
        "# install.packages(\"distributions3\")\n",
        "# library(distributions3)\n",
        "\n",
        "two_sample_t_test_heterocedastico <- function(n_1, n_2, mean_1, mean_2, var_1, var_2, h1_signal='<>', alpha=0.05){\n",
        "  # h1_signal <- '<', '>','<>'\n",
        "  t_stat <- (mean_1 - mean_2) / sqrt((var_1/n_1) + (var_2/n_2))\n",
        "  \n",
        "  if ((n_1 - 1) <= (n_2 - 1)) {\n",
        "      df <- (n_1 - 1)\n",
        "  } else {\n",
        "      df <- (n_2 - 1)\n",
        "  }\n",
        "  t_critical <- get_t_critical(t_stat, df, h1_signal, alpha)\n",
        "  T <- StudentsT(df=df) \n",
        "  p_value <- get_p_value(t_stat, T, h1_signal,alpha)\n",
        "  \n",
        "  E <- abs(t_critical) *  sqrt((var_1/n_1) + (var_2/n_2))\n",
        "  ic_min <- (mean_1 - mean_2) - E\n",
        "  ic_max <- (mean_1 - mean_2) + E  \n",
        "  ic_accept_h1 = !(0 > ic_min & 0 < ic_max)\n",
        "  cat('\\nE = ', E, 'IC = [', ic_min, '; ', ic_max, ']', 'Accept H1? R.: ', ic_accept_h1)\n",
        "  \n",
        "  # return(p_value)\n",
        "}\n",
        "\n",
        "two_sample_t_test_homocedastico <- function(n_1, n_2, mean_1, mean_2, var_1, var_2, h1_signal='<>', alpha=0.05){\n",
        "  # h1_signal <- '<', '>','<>'\n",
        "  s_comb <- (((n_1 - 1) * var_1) + ((n_2 - 1) * var_2)) / ((n_1 - 1) + (n_2 - 1))\n",
        "  t_stat <- (mean_1 - mean_2) / sqrt((s_comb/n_1) + (s_comb/n_2))\n",
        "  \n",
        "  df = n_1 + n_2 - 2\n",
        "  cat('\\ndf = ', df, 's_comb = ', s_comb)\n",
        "  t_critical <- get_t_critical(t_stat, df, h1_signal, alpha)\n",
        "\n",
        "  T <- StudentsT(df=df) \n",
        "  p_value <- get_p_value(t_stat, T, h1_signal,alpha)\n",
        "\n",
        "  E <- abs(t_critical) *  sqrt((s_comb/n_1) + (s_comb/n_2))\n",
        "  ic_min <- (mean_1 - mean_2) - E\n",
        "  ic_max <- (mean_1 - mean_2) + E\n",
        "  ic_accept_h1 = !(0 > ic_min & 0 < ic_max)\n",
        "  cat('\\nE = ', E, 'IC = [', ic_min, '; ', ic_max, ']', 'Accept H1? R.: ', ic_accept_h1)\n",
        "  \n",
        "  # return(p_value)\n",
        "}"
      ],
      "execution_count": 100,
      "outputs": []
    },
    {
      "cell_type": "code",
      "metadata": {
        "id": "Oll5UeIvdB71",
        "colab": {
          "base_uri": "https://localhost:8080/"
        },
        "cellView": "form",
        "outputId": "17d6d979-e0a9-4e01-df78-61d268b9ecb2"
      },
      "source": [
        "#@title Teste F para variâncias de duas amostras\n",
        "# https://bookdown.org/matheusogonzaga/apostila_r2/inferencia.html#teste-f-para-compara%C3%A7%C3%A3o-de-duas-vari%C3%A2ncias\n",
        "\n",
        "#@markdown `f_test_to_var(n_1, n_2, var_1, var_2, alpha=0.05)`\n",
        "\n",
        "#@markdown homocedática -> igualdade entre duas variâncias\n",
        "\n",
        "#@markdown heterocedática -> diferênça entre duas variâncias\n",
        "\n",
        "\n",
        "%%R\n",
        "\n",
        "f_test_to_var <- function(n_1, n_2, var_1, var_2, alpha=0.05) {\n",
        "  F <- var_1/ var_2\n",
        "\n",
        "  gl1 <- n_1 - 1\n",
        "  gl2 <- n_2 - 1  \n",
        "  Fl <- (1/qf((alpha/2),gl2,gl1,lower.tail=F))\n",
        "  Fr <- qf((alpha/2),gl1,gl2,lower.tail=F)\n",
        "\n",
        "  if (F < Fl | F > Fr){ \n",
        "      result <- 'Aceita H1'\n",
        "  } else { \n",
        "      result <- 'Aceita H0'\n",
        "  }\n",
        "\n",
        "  cat('F = ', F, '\\nFl = ', Fl, '\\nFr = ', Fr, '\\nResultado = ', result)\n",
        "}\n",
        "\n",
        "n_1 <- 15\n",
        "n_2 <- 10\n",
        "\n",
        "var_1 <- 0.03\n",
        "var_2 <- 0.19\n",
        "\n",
        "f_test_to_var(n_1, n_2, var_1, var_2, alpha=0.05)"
      ],
      "execution_count": 101,
      "outputs": [
        {
          "output_type": "stream",
          "text": [
            "F =  0.1578947 \n",
            "Fl =  0.3115944 \n",
            "Fr =  3.797952 \n",
            "Resultado =  Aceita H1"
          ],
          "name": "stdout"
        }
      ]
    },
    {
      "cell_type": "markdown",
      "metadata": {
        "id": "4OWaGNcnlg3f"
      },
      "source": [
        "# Exemplos e Exercícios"
      ]
    },
    {
      "cell_type": "markdown",
      "metadata": {
        "id": "o0EXHiDo50PO"
      },
      "source": [
        "## Exercícios Teste Z para média de uma amostra"
      ]
    },
    {
      "cell_type": "code",
      "metadata": {
        "id": "67n4jOkFlf8d",
        "colab": {
          "base_uri": "https://localhost:8080/"
        },
        "cellView": "form",
        "outputId": "a710e17a-3005-47f0-a9d2-53c9f2b0084a"
      },
      "source": [
        "#@markdown 1. (Adaptado de Stevenson, 2001) Suponha que queiramos avaliar a afirmação de um fabricante, de que seus pneus radiais suportam uma quilometragem de 40000 milhas, no mínimo. Para uma amostra aleatória de 49 pneus observou-se uma média de duração de 38000 milhas. Sabe-se que o desvio padrão populacional da duração dos pneus é de 3500 milhas. Utilize um nível de significância de 0,03. O que você pode concluir? Obtenha a conclusão utilizando, também, o valor p. \n",
        "\n",
        "#@markdown > H0: μ>=4000 vs HA: μ<40000 \\\n",
        "#@markdown > zteste= - 4 \\\n",
        "#@markdown > z0,03= -1,88 \\\n",
        "#@markdown > Como zteste< z0,03, deve-se rejeitar H0. \\\n",
        "#@markdown > Conclusão: A duração média dos pneus radiais é inferior a 40000 milhas, contradizendo a afirmação do fabricante a um nível de 3% de significância.\n",
        "\n",
        "#@markdown > Valor p = 0,5-0,4998 = 0,0002 \\\n",
        "#@markdown > Como valor p < 0,03, deve-se rejeitar H0. \\\n",
        "#@markdown > Conclusão: A duração média dos pneus radiais é inferior a 40000 milhas, contradizendo a afirmação do fabricante a um nível de 3% de significância.\n",
        "\n",
        "%%R\n",
        "\n",
        "mean_0 <- 40000\n",
        "n <- 49\n",
        "mean_sample <- 38000\n",
        "sd <- 3500\n",
        "alpha <- 0.03\n",
        "\n",
        "# H0: >= 40000\n",
        "# H1: < 40000\n",
        "\n",
        "one_sample_z_test(n, sd, mean_sample, mean_0, h1_signal='<', alpha=alpha)"
      ],
      "execution_count": 102,
      "outputs": [
        {
          "output_type": "stream",
          "text": [
            "\n",
            "z_stat =  -4   z_critical =  -1.880794 Accept H1? R.:  TRUE\n",
            "p_value <= alpha? p-value = 0.00003167124 alpha = 0.03   Accept H1? R.:  TRUE\n",
            "E =  940.3968 IC = [ 37059.6 ;  38940.4 ] Accept H1? R.:  TRUE"
          ],
          "name": "stdout"
        }
      ]
    },
    {
      "cell_type": "code",
      "metadata": {
        "colab": {
          "base_uri": "https://localhost:8080/"
        },
        "id": "hnoZROil6fUV",
        "cellView": "form",
        "outputId": "0c614b49-d305-4074-dd9f-dfe9b8b828cd"
      },
      "source": [
        "#@markdown 2. Um representante de um grupo comunitário informa a um potencial construtor de um shopping, que a renda familiar média mensal nesta área é superior a R$6500. Suponha que, para o tipo de área envolvida, a renda familiar possa ser assumida como seguindo a distribuição normal, e que o desvio padrão pode ser aceito como sendo igual a  = 2000, baseado em um estudo anterior. Para uma amostra aleatória de 55 residências, a renda familiar média encontrada é de R$6300. Verifique se há evidências que confirmem a hipótese do representante do grupo comunitário, considere um nível de 2% de significância. Utilize a região crítica e o valor p para concluir o teste. \n",
        "\n",
        "#@markdown > H0: μ<=6500 vs HA: μ>6500 \\\n",
        "#@markdown > zteste= -0,7416 \\\n",
        "#@markdown > Valor p = 0,5+0,2704 = 0,7704 \\\n",
        "#@markdown > Como valor p > 0,02, NÃO deve-se rejeitar H0. \\\n",
        "#@markdown > Conclusão: Conclui-se com 2% de significância que a renda familiar média mensal nesta área é de, no máximo, R$6500. Dessa forma, não há evidências que confirmem a hipótese do representante do grupo comunitário.\n",
        "\n",
        "%%R\n",
        "\n",
        "# H0: <= 6500\n",
        "# H1: > 6500\n",
        "\n",
        "mean_0 <- 6500\n",
        "sd <- 2000\n",
        "n <- 55\n",
        "mean_sample <- 6300\n",
        "alpha <- 0.02\n",
        "\n",
        "one_sample_z_test(n, sd, mean_sample, mean_0, h1_signal='>', alpha=alpha)"
      ],
      "execution_count": 103,
      "outputs": [
        {
          "output_type": "stream",
          "text": [
            "\n",
            "z_stat =  -0.7416198   z_critical =  2.053749 Accept H1? R.:  FALSE\n",
            "p_value <= alpha? p-value = 0.7708412 alpha = 0.02   Accept H1? R.:  FALSE\n",
            "E =  553.8549 IC = [ 5746.145 ;  6853.855 ] Accept H1? R.:  FALSE"
          ],
          "name": "stdout"
        }
      ]
    },
    {
      "cell_type": "code",
      "metadata": {
        "colab": {
          "base_uri": "https://localhost:8080/"
        },
        "id": "4UFnOzsq7fXk",
        "cellView": "form",
        "outputId": "9247ab8f-558c-4f25-b1b1-15ee86e8ecad"
      },
      "source": [
        "#@markdown 1. Um estudante de direito quer conferir a alegação de sua professora de que fraudadores condenados passam, em média 12,3 meses na cadeia. Uma amostra aleatória de 35 casos do arquivo judiciário indicou uma média de 11,5 meses. Suponha que o desvio padrão seja sd = 3,8 meses. Adote um nível de 4% de significância. O que o estudante pode concluir a partir dos dados da amostra? Utilize o valor p e o intervalo de confiança. \n",
        "\n",
        "#@markdown > H0: μ=12,3 vs HA: μ≠12,3 \\\n",
        "#@markdown > zteste= -1,2455 \\\n",
        "#@markdown > Pelo método do Valor p: \\\n",
        "#@markdown > Valor p = 2x(0,5-0,3944)=0,2112 \\\n",
        "#@markdown > Como valor p > 0,04, NÃO deve-se rejeitar H0. \\\n",
        "#@markdown > Pelo método do intervalo de confiança (já que estamos em um teste bilateral): \\\n",
        "#@markdown > zc=2,05 \\\n",
        "#@markdown > E= 1,3167 meses \\\n",
        "#@markdown > I.C.= [10,1833 meses ; 12,8167 meses] \\\n",
        "#@markdown > Como o valor de mean_0 = 12,3 está compreendido no intervalo de confiança, não deve-se rejeitar H0. Confirmando a conclusão obtida pelo método do valor p. Conclusão: Conclui-se com 4% de significância que o tempo médio que fraudadores condenados passam na cadeia é de 12,3 meses. Dessa forma, há evidências que confirmam a alegação da professora.\n",
        "\n",
        "%%R\n",
        "\n",
        "# H0: = 12.3\n",
        "# H1: <> 12.3\n",
        "\n",
        "mean_0 <- 12.3\n",
        "n <- 35\n",
        "mean_sample <- 11.5\n",
        "sd <- 3.8\n",
        "alpha <- 0.04\n",
        "\n",
        "\n",
        "one_sample_z_test(n, sd, mean_sample, mean_0, h1_signal='<>', alpha=alpha)"
      ],
      "execution_count": 104,
      "outputs": [
        {
          "output_type": "stream",
          "text": [
            "\n",
            "z_stat =  -1.24549   z_critical =  2.053749 Accept H1? R.:  FALSE\n",
            "p_value <= alpha? p-value = 0.2129515 alpha = 0.04   Accept H1? R.:  FALSE\n",
            "E =  1.319158 IC = [ 10.18084 ;  12.81916 ] Accept H1? R.:  FALSE"
          ],
          "name": "stdout"
        }
      ]
    },
    {
      "cell_type": "markdown",
      "metadata": {
        "id": "OfpoBEHn7791"
      },
      "source": [
        "## Teste Z para proporção de uma amostra"
      ]
    },
    {
      "cell_type": "code",
      "metadata": {
        "id": "PSzERNPF8AGz",
        "colab": {
          "base_uri": "https://localhost:8080/"
        },
        "cellView": "form",
        "outputId": "be70e9f0-dedd-4388-a08e-41503a01882a"
      },
      "source": [
        "#@markdown 1. Um sistema de reservas da companhia Y acusa uma taxa de 7% de não-comparecimento. Adotou-se então um novo processo, pelo qual as reservas são confirmadas no dia anterior ao do vôo, fazendo-se um estudo de 5218 reservas pelo novo sistema, selecionadas aleatoriamente. Se se registraram 333 não-comparecimentos, teste a afirmação de que a taxa de não-comparecimento é menor no novo sistema. O novo sistema se afigura eficiente na redução do não-comparecimento? Utilize um nível de 2% de significância.\n",
        "\n",
        "#@markdown > Hipótese unilateral à esquerda \\\n",
        "#@markdown > pˆ =0,0638 \\\n",
        "#@markdown > zteste= -1,7553 \\\n",
        "#@markdown > valor p =0,5-0,4608=0,0392 > alpha -> NÃO rejeito a hipótese nula\n",
        "\n",
        "%%R\n",
        "cat('p_^ = ', 333/5218, '\\n')\n",
        "one_sample_z_proportion_test(n=5218, pi=333/5218, pi_0=0.07, h1_signal='<', alpha=0.02)"
      ],
      "execution_count": 105,
      "outputs": [
        {
          "output_type": "stream",
          "text": [
            "p_^ =  0.06381755 \n",
            "n * pi > 5 =  TRUE\n",
            "n * (1 - pi) > 5 =  TRUE\n",
            "\n",
            "z_stat =  -1.750338   z_critical =  -2.053749 Accept H1? R.:  FALSE\n",
            "p_value <= alpha? p-value = 0.04003004 alpha = 0.02   Accept H1? R.:  FALSE\n",
            "E =  0.006949373 IC = [ 0.05686818 ;  0.07076693 ] Accept H1? R.:  FALSE"
          ],
          "name": "stdout"
        }
      ]
    },
    {
      "cell_type": "code",
      "metadata": {
        "id": "dBdML4aB8RLF",
        "colab": {
          "base_uri": "https://localhost:8080/"
        },
        "cellView": "form",
        "outputId": "15444de0-5e4f-403f-c344-10eed502f739"
      },
      "source": [
        "#@markdown 2. Em um estudo de 71 fumantes que estavam procurando deixar de fumar utilizando uma terapia especial, 32 não estavam fumando um ano após o tratamento. Ao nível de 0,10 de significância, teste a afirmação de que, dos fumantes que procuram deixar de fumar com aquela terapia, no máximo 25% voltam a fumar um ano após o tratamento. Esses resultados sugerem que a terapia não é eficaz? \n",
        "\n",
        "#@markdown > Hipótese unilateral à direita \\\n",
        "#@markdown > pˆ=0,5493 \\\n",
        "#@markdown > zteste= 5,8242 \\\n",
        "#@markdown > valor p =0,5-0,4998=0,0002 < alpha -> Rejeito a hipótese nula\n",
        "\n",
        "%%R\n",
        "cat('p_^ = ', (71-32)/71, '\\n')\n",
        "one_sample_z_proportion_test(n=71, pi=(71-32)/71, pi_0=0.25, h1_signal='>', alpha=0.1)"
      ],
      "execution_count": 106,
      "outputs": [
        {
          "output_type": "stream",
          "text": [
            "p_^ =  0.5492958 \n",
            "n * pi > 5 =  TRUE\n",
            "n * (1 - pi) > 5 =  TRUE\n",
            "\n",
            "z_stat =  5.824104   z_critical =  1.281552 Accept H1? R.:  TRUE\n",
            "p_value <= alpha? p-value = 0.00000000287099 alpha = 0.1   Accept H1? R.:  TRUE\n",
            "E =  0.0756756 IC = [ 0.4736202 ;  0.6249714 ] Accept H1? R.:  TRUE"
          ],
          "name": "stdout"
        }
      ]
    },
    {
      "cell_type": "markdown",
      "metadata": {
        "id": "f3V4T3W18cP7"
      },
      "source": [
        "## Teste Z para proporção de duas amostras"
      ]
    },
    {
      "cell_type": "markdown",
      "metadata": {
        "id": "O7QZVNeDaHwO"
      },
      "source": [
        "Exemplo\n",
        "Uma empresa que presta serviços de assessoria econômica a outras empresas está interessada em\n",
        "comparar a taxa de reclamações sobre os seus serviços em dois dos seus escritórios em duas cidades\n",
        "diferentes. Suponha que a empresa tenha selecionado aleatoriamente 134 serviços realizados pelo\n",
        "escritório da cidade A e foi constatado que em 12 deles houve algum tipo de reclamação. Já do escritório\n",
        "da cidade B foram selecionados 145 serviços e 18 receberam algum tipo de reclamação. A empresa\n",
        "deseja saber se estes resultados são suficientes para se concluir que o escritório A apresenta uma taxa de\n",
        "aprovação maior que o escritório B. Use α = 0,1.\n",
        "Podemos observar que o parâmetro a ser comparado é a taxa de aprovação dos serviços de dois\n",
        "escritórios localizados em duas cidades diferentes, ou seja, duas proporções. Vamos considerar a cidade\n",
        "A como a 1a amostra e a cidade B como a 2a amostra. Os dados da pesquisa disponíveis no enunciado\n",
        "são:\n",
        "- n1 = 134 (tamanho da 1a amostra)\n",
        "- n2 = 145 (tamanho da 2a amostra)\n",
        "- x1 = 134 - 12 = 122 (número de sucessos da 1a amostra)\n",
        "- x2 = 145 – 18 = 127 (número de sucessos da 2a amostra)\n",
        "- p̂1= 122/134 = 0,9104 (proporção de sucessos da 1a amostra)\n",
        "- p̂2= 127/145 = 0,8759 (proporção de sucessos da 2a amostra)\n",
        "\n",
        "> A questão a ser respondida é: ”Os resultados obtidos permitem concluir que o escritório A apresenta uma\n",
        "taxa de aprovação maior que o escritório B?”. A partir daí as hipóteses estatísticas podem ser elaboradas:\n",
        "H0: p1 < p2 versus HA: p1 > p2 → Hipótese unilateral à direita\n",
        "\n",
        "- Calcular p chapéu\n",
        "- Calcular estatística de teste Z\n",
        "- Obter p-value\n",
        "\n",
        "\n"
      ]
    },
    {
      "cell_type": "code",
      "metadata": {
        "colab": {
          "base_uri": "https://localhost:8080/"
        },
        "id": "Ldb_uuhBaRu6",
        "outputId": "0c0561f7-9da4-4f93-dc76-b07a56334b28"
      },
      "source": [
        "%%R\n",
        "two_sample_z_proportion_test(n_1=134, n_2=145, p_1=122/134, p_2=127/145, h1_signal='>', alpha=0.1)"
      ],
      "execution_count": 107,
      "outputs": [
        {
          "output_type": "stream",
          "text": [
            "p_^ =  0.8924731 \n",
            "\n",
            "z_stat =  0.9316969   z_critical =  1.281552 Accept H1? R.:  FALSE\n",
            "p_value <= alpha? p-value = 0.1757466 alpha = 0.1   Accept H1? R.:  FALSE\n",
            "E =  0.04757271 IC = [ -0.01298702 ;  0.0821584 ] Aceept H1? R.:  FALSE"
          ],
          "name": "stdout"
        }
      ]
    },
    {
      "cell_type": "markdown",
      "metadata": {
        "id": "AmuVK-A78_2U"
      },
      "source": [
        "1. Uma firma especializada em declarações de imposto de renda está interessada em comparar a\n",
        "qualidade do trabalho em dois de seus escritórios regionais (Sul e Sudeste). Ao selecionar\n",
        "aleatoriamente amostras de declarações do imposto de renda preenchidas em cada escritório e\n",
        "verificar a precisão amostral das declarações, a firma será capaz de estimar a proporção das\n",
        "declarações preenchidas erroneamente em cada escritório. A firma está interessada em verificar se\n",
        "a proporção de declarações preenchidas erroneamente é diferente nos dois escritórios. Use α = 0,03.\n",
        "\n",
        "| Escritório regional | Tamanho amostral | Declarações preenchidas erroneamente |\n",
        "| ---------| ----------| ------------|\n",
        "| Sul | 240 | 21 |\n",
        "| Sudeste | 350 | 59 |\n",
        "\n",
        "> - Hipótese bilateral\n",
        "> - p̅= 0,1356\n",
        "- z = 2,8258\n",
        "> - Valor p = 2x(0,5-0,4977)=0,0046\n",
        "> - Como valor p < alpha, podemos rejeitar a hipótese nula, ou seja, a proporção de declarações preenchidas erroneamente difere entre os dois escritórios.\n",
        "\n",
        "> - Intervalo de confiança: \\\n",
        "> z=2,17 \\\n",
        "> [-0,1434 ; -0,0188]\n",
        "\n",
        "> - Como o intervalo de confiança não contém o zero, podemos rejeitar a hipótese nula. Além disso, pode-se\n",
        "dizer que a proporção de declarações preenchidas erroneamente pelo escritório da regional sudeste é\n",
        "significativamente maior do que no escritório da regional sul, com um nível de 97% de confiança."
      ]
    },
    {
      "cell_type": "code",
      "metadata": {
        "id": "c283D2va8p1X",
        "colab": {
          "base_uri": "https://localhost:8080/"
        },
        "outputId": "90660a52-b2d8-48f7-c86d-a78ad5b37d56"
      },
      "source": [
        "%%R\n",
        "two_sample_z_proportion_test(n_1=240, n_2=350, p_1=21/240, p_2=59/350, h1_signal='<>', alpha=0.03)"
      ],
      "execution_count": 108,
      "outputs": [
        {
          "output_type": "stream",
          "text": [
            "p_^ =  0.1355932 \n",
            "\n",
            "z_stat =  -2.825553   z_critical =  2.17009 Accept H1? R.:  TRUE\n",
            "p_value <= alpha? p-value = 0.004719914 alpha = 0.03   Accept H1? R.:  TRUE\n",
            "E =  0.06226475 IC = [ -0.1433362 ;  -0.01880668 ] Aceept H1? R.:  TRUE"
          ],
          "name": "stdout"
        }
      ]
    },
    {
      "cell_type": "markdown",
      "metadata": {
        "id": "w5ziF5gDhz1n"
      },
      "source": [
        "2. Em um estudo 250 homens adultos e 200 mulheres adultas, ambos usuários de internet, foram selecionados aleatoriamente. Entre os homens 10% disseram realizar compras online pelo menos uma vez no mês. Entre as mulheres, esse  percentual foi de 30%. Teste a afirmação de que a proporção de homens usuários  de internet que compram pelo menos uma vez no mês é inferior a de mulheres. Utilize um nível de significância de 7%\n",
        "\n",
        "> Hipótese unilateral esquerda\n",
        "> Como valor p < alpha, podemos rejeitar a hipótese nula. Conclui-se com 7% de significância que a proporção de homens usuários de internet que compram pelo  menos uma vez no mês é inferior a de mulheres\n"
      ]
    },
    {
      "cell_type": "code",
      "metadata": {
        "id": "f2X0stni8mjj",
        "colab": {
          "base_uri": "https://localhost:8080/"
        },
        "outputId": "a28b70c2-3d9b-4fe0-a898-11fb17a5f471"
      },
      "source": [
        "%%R\n",
        "two_sample_z_proportion_test(n_1=250, n_2=200, p_1=0.10, p_2=0.30, h1_signal='<', alpha=0.07)"
      ],
      "execution_count": 109,
      "outputs": [
        {
          "output_type": "stream",
          "text": [
            "p_^ =  0.1888889 \n",
            "\n",
            "z_stat =  -5.385988   z_critical =  -1.475791 Accept H1? R.:  TRUE\n",
            "p_value <= alpha? p-value = 0.00000003602394 alpha = 0.07   Accept H1? R.:  TRUE\n",
            "E =  0.05480113 IC = [ -0.2548011 ;  -0.1451989 ] Aceept H1? R.:  TRUE"
          ],
          "name": "stdout"
        }
      ]
    },
    {
      "cell_type": "markdown",
      "metadata": {
        "id": "7u5bB0jU7pxe"
      },
      "source": [
        "## Exercícios Teste t para média de uma amostra"
      ]
    },
    {
      "cell_type": "code",
      "metadata": {
        "id": "s1Rsyura7rJ4",
        "colab": {
          "base_uri": "https://localhost:8080/"
        },
        "cellView": "form",
        "outputId": "e545677a-0459-4b7b-ee50-4202b49a549c"
      },
      "source": [
        "#@markdown 1. (Adaptado de Morettin & Bussab) Um escritório de investimentos acredita que o rendimento médio das diversas ações que movimenta é de 20%. Uma nova estratégia foi definida com o objetivo de aumentar o rendimento médio das diversas ações que movimenta. Para verificar esta hipótese, tomaram-se 18 empresas ao acaso obtendo-se um rendimento médio de 24,56% e um desvio padrão de 5%. Suponha que a população tenha distribuição aproximadamente normal. Faça o teste estatístico para comprovar que a nova estratégia é realmente eficiente para aumentar o rendimento médio das diversas ações. Use um nível de significância de 1%.\n",
        "\n",
        "#@markdown > Hipótese unilateral à direita, tteste=3,8692, valor p=0,0005\n",
        "\n",
        "%%R\n",
        "one_sample_t_test(n=18, sd=0.05, mean_sample=0.2456, mean_0=0.20, h1_signal='>', alpha=0.01)"
      ],
      "execution_count": 110,
      "outputs": [
        {
          "output_type": "stream",
          "text": [
            "\n",
            "df =  17\n",
            "t_stat =  3.869288   t_critical =  2.566934 Accept H1? R.:  TRUE\n",
            "p_value <= alpha? p-value = 0.0006155272 alpha = 0.01   Accept H1? R.:  TRUE\n",
            "E =  0.03025161 IC = [ 0.1697484 ;  0.2302516 ] Accept H1? R.:  FALSE"
          ],
          "name": "stdout"
        }
      ]
    },
    {
      "cell_type": "code",
      "metadata": {
        "id": "2KuM_RFL7wOt",
        "colab": {
          "base_uri": "https://localhost:8080/"
        },
        "cellView": "form",
        "outputId": "9e2f47ca-c5d8-465d-e86f-6f07bb022d50"
      },
      "source": [
        "#@markdown 2. Uma amostra aleatória de oito pedidos dos arquivos de uma companhia mostra que os pedidos de certa peça de uma máquina forma despachados em: 12 10 17 14 13 18 11 9 dias. Ao nível de 5% de significância , podemos concluir que, em média, tais pedidos são despachados em menos de 10 dias?\n",
        "\n",
        "#@markdown > Hipótese unilateral à esquerda, média da amostra=13, variância da amostra=10,2857, desvio padrão da amostra=3,2071, tteste=2,6458, valor p=1-0,0125=0,9875.\n",
        "\n",
        "%%R\n",
        "x <- c(12, 10, 17, 14, 13, 18, 11, 9)\n",
        "mean_sample <- mean(x)\n",
        "sd <- sd(x)\n",
        "cat('mean_sample = ', mean_sample, 'sd = ', sd, '\\n')\n",
        "one_sample_t_test(n=8, sd, mean_sample, mean_0=10, h1_signal='<', alpha=0.05)"
      ],
      "execution_count": 111,
      "outputs": [
        {
          "output_type": "stream",
          "text": [
            "mean_sample =  13 sd =  3.207135 \n",
            "\n",
            "df =  7\n",
            "t_stat =  2.645751   t_critical =  -1.894579 Accept H1? R.:  FALSE\n",
            "p_value <= alpha? p-value = 0.9834272 alpha = 0.05   Accept H1? R.:  FALSE\n",
            "E =  2.14825 IC = [ 7.85175 ;  12.14825 ] Accept H1? R.:  FALSE"
          ],
          "name": "stdout"
        }
      ]
    },
    {
      "cell_type": "markdown",
      "metadata": {
        "id": "F6oBPVYt-Oz2"
      },
      "source": [
        "## Teste t pareado para duas amostras\n",
        "\n",
        "conf.level = 0.95 -> por default o teste admite um nível de confiança de 95% (ou α= 5%)\n",
        "\n",
        "alternative = two.sided - > por default o teste é bicaudal, podemos escolher também “greater” ou “less”"
      ]
    },
    {
      "cell_type": "markdown",
      "metadata": {
        "id": "mf4jcEzsrgTw"
      },
      "source": [
        "Exemplo 1\n",
        "O Captopril é um remédio destinado a baixar a pressão sistólica. Feito o teste com este\n",
        "remédio em pacientes, mediram-se suas pressões sistólicas (em mmHg) antes e depois de\n",
        "tomarem o remédio, com os resultados constantes da tabela a seguir. Pode-se dizer que haja\n",
        "diferença nas medidas da pressão sistólica antes e depois da ingestão do remédio? Utilize alpha = 5%\n",
        "\n",
        "Pressão sistólica (em mmHg)\n",
        "\n",
        "|Antes | Depois|\n",
        "|--- | --- |\n",
        "|200 | 191 |\n",
        "|174 | 170 |\n",
        "|198 | 177 |\n",
        "|170 | 167 |\n",
        "|179 | 159 |"
      ]
    },
    {
      "cell_type": "code",
      "metadata": {
        "id": "YcVrWwv2-QaR",
        "colab": {
          "base_uri": "https://localhost:8080/"
        },
        "outputId": "d2305482-a961-474b-8ec6-59806bed0ae4"
      },
      "source": [
        "%%R\n",
        "\n",
        "antes  <- c(200, 174, 198, 170, 179)\n",
        "depois <- c(191, 170, 177, 167, 159)\n",
        "t.test(antes, depois, paired=TRUE, conf.level=0.95, alternative='two.sided')"
      ],
      "execution_count": 112,
      "outputs": [
        {
          "output_type": "stream",
          "text": [
            "\n",
            "\tPaired t-test\n",
            "\n",
            "data:  antes and depois\n",
            "t = 2.9573, df = 4, p-value = 0.04167\n",
            "alternative hypothesis: true difference in means is not equal to 0\n",
            "95 percent confidence interval:\n",
            "  0.6971732 22.1028268\n",
            "sample estimates:\n",
            "mean of the differences \n",
            "                   11.4 \n",
            "\n"
          ],
          "name": "stdout"
        }
      ]
    },
    {
      "cell_type": "markdown",
      "metadata": {
        "id": "GcLq6fwXs7bl"
      },
      "source": [
        "1. Uma distribuidora de combustíveis deseja verificar se um novo tipo de gasolina é eficaz na revitalização de motores velhos. Com esse objetivo,  seleciona 12 automóveis de um mesmo modelo com mais de 8 anos de uso e, após  regulagem de seus motores, verifica o consumo de combustível (em km/litro). Em  seguida, o carro é abastecido com o novo tipo de combustível durante 15  semanas, e uma nova aferição do consumo é feita. Defina as variáveis aleatórias Xi e Yi como o rendimento do automóvel i respectivamente antes e após as 15  semanas. Vemos que Xi e Yi foram medidas em uma mesma unidade amostral e,  assim, é razoável assumir que exista alguma dependência entre elas. Ao medir a característica de interesse em duas ocasiões, para cada uma das unidades  amostrais, pretende-se diminuir a influência de outros fatores e ressaltar um  possível efeito do tipo de gasolina no desempenho do veículo. Os dados coletados para os 12 automóveis são apresentados na tabela a seguir:\n",
        "\n",
        "Utilizando um nível de significância de 5%, verifique se houve diferença no rendimento dos\n",
        "veículos.\n",
        "\n",
        "\n",
        "> Σd= 35,3\n",
        "Σd2= 130,55\n",
        "d = 2,941667\n",
        "sd= 1,558238\n",
        "Tp= 6,539586\n",
        "valor p = 2x(0,0005)=0,001\n"
      ]
    },
    {
      "cell_type": "code",
      "metadata": {
        "colab": {
          "base_uri": "https://localhost:8080/"
        },
        "id": "MW5MVYu4s5qS",
        "outputId": "74b4abd2-2077-4edb-b1da-be922628c5d1"
      },
      "source": [
        "%%R\n",
        "\n",
        "antes  <- c(8.1, 7.9, 6.8, 7.8, 7.6, 7.9, 5.7, 8.4, 8, 9.5, 8, 6.8)\n",
        "depois <- c(11.6, 8.8, 9.9, 9.5, 11.6, 9.1, 10.6, 10.8, 13.4, 10.6, 10.5, 11.4)\n",
        "t.test(antes, depois, paired=TRUE, conf.level=0.95, alternative='less')"
      ],
      "execution_count": 113,
      "outputs": [
        {
          "output_type": "stream",
          "text": [
            "\n",
            "\tPaired t-test\n",
            "\n",
            "data:  antes and depois\n",
            "t = -6.5396, df = 11, p-value = 0.00002097\n",
            "alternative hypothesis: true difference in means is less than 0\n",
            "95 percent confidence interval:\n",
            "      -Inf -2.133833\n",
            "sample estimates:\n",
            "mean of the differences \n",
            "              -2.941667 \n",
            "\n"
          ],
          "name": "stdout"
        }
      ]
    },
    {
      "cell_type": "markdown",
      "metadata": {
        "id": "Q1RCShMavdJ2"
      },
      "source": [
        "2. Dez cobaias foram submetidas ao tratamento de engorda com certa ração. Os pesos em gramas, antes e após o teste são dados a seguir (supõe-se que  provenham de distribuições normais). Considerando um nível de 1% de  significância, podemos concluir que existe diferença no peso médio dos animais antes e após o tratamento de engorda?\n",
        "\n",
        "> Σd= -66\n",
        "Σd2= 882\n",
        "d = -6,6\n",
        "sd= 7,04\n",
        "Tp= -2,96\n",
        "valor p = 2x(0,01)=0,02\n",
        "\n"
      ]
    },
    {
      "cell_type": "code",
      "metadata": {
        "colab": {
          "base_uri": "https://localhost:8080/"
        },
        "id": "vjbvriqEvcmY",
        "outputId": "aba45a4b-be7d-4cea-b674-9b7d9760a28c"
      },
      "source": [
        "%%R\n",
        "\n",
        "antes  <- c(635, 704, 662, 560, 603, 745, 698, 575, 633, 669)\n",
        "depois <- c(640, 712, 681, 558, 610, 740, 707, 585, 635, 682)\n",
        "t.test(antes, depois, paired=TRUE, conf.level=0.99, alternative='two.sided')"
      ],
      "execution_count": 114,
      "outputs": [
        {
          "output_type": "stream",
          "text": [
            "\n",
            "\tPaired t-test\n",
            "\n",
            "data:  antes and depois\n",
            "t = -2.9635, df = 9, p-value = 0.01587\n",
            "alternative hypothesis: true difference in means is not equal to 0\n",
            "99 percent confidence interval:\n",
            " -13.8377274   0.6377274\n",
            "sample estimates:\n",
            "mean of the differences \n",
            "                   -6.6 \n",
            "\n"
          ],
          "name": "stdout"
        }
      ]
    },
    {
      "cell_type": "markdown",
      "metadata": {
        "id": "SAZxr6bSwX9A"
      },
      "source": [
        "## Teste t para duas amostras independentes\n",
        "\n",
        "Caso 1: As duas populações parecem ter variâncias iguais (Homocedásticas)\n",
        "\n",
        "Caso 2: As duas populações parecem ter variâncias desiguais (Heterocedásticas)"
      ]
    },
    {
      "cell_type": "markdown",
      "metadata": {
        "id": "rwSz0zBQAUa-"
      },
      "source": [
        "Exemplo 1:\n",
        "\n",
        "Digitadores são treinados em uma empresa em duas turmas distintas. Na primeira, denominada turma J, utiliza-\n",
        "se um método japonês de ensino, ao passo que na segunda turma, denominada turma A, utiliza-se um método\n",
        "\n",
        "alemão. Deseja-se comparar os dois métodos e para tanto, 16 alunos de cada turma foram escolhidos\n",
        "aleatoriamente e uma mesma tarefa foi atribuída a cada um. Ao final do experimento, o tempo gasto na realização\n",
        "da tarefa, para cada aluno, foi anotado. No processo, dois computadores utilizados pelos alunos selecionados da\n",
        "turma J e três da turma A apresentaram problemas que impediram a realização da tarefa; o tamanho da amostra foi\n",
        "assim reduzido para 14 e 13, respectivamente, para as turmas J e A. Os dados obtidos encontram-se resumidos a\n",
        "seguir. Considerando-se um nível de 5% de significância, verifique se há evidências suficientes para afirmar que os dois\n",
        "métodos são equivalentes, ou seja, o tempo médio para as duas turmas são iguais.\n",
        "\n",
        "| Turma | n | Média | Desvio padrão | \n",
        "| ----- | - | ----- | ------------- |\n",
        "| J | 14 | 11,57 | 4,1 |\n",
        "| A | 13 | 15,38 | 4,3 |"
      ]
    },
    {
      "cell_type": "code",
      "metadata": {
        "id": "ks8DOQ0wzGnT",
        "colab": {
          "base_uri": "https://localhost:8080/"
        },
        "outputId": "9742fbaf-a6c9-43de-cdcc-69fa1e742287"
      },
      "source": [
        "%%R\n",
        "\n",
        "n_1 <- 14\n",
        "n_2 <- 13\n",
        "mean_1 <- 11.57\n",
        "mean_2 <- 15.38\n",
        "var_1 <- 4.1^2\n",
        "var_2 <- 4.3^2\n",
        "alpha <- 0.05\n",
        "\n",
        "# 1. Avaliar se as populações são homocedásticas ou heterocedásticas (por meio do teste F). Onde:\n",
        "# H0: var_1 = var_2 \n",
        "# H1: var_1 <> var_2\n",
        "\n",
        "f_test_to_var(n_1, n_2, var_1, var_2, alpha=alpha)\n",
        "\n",
        "# Podemos concluir a um nível de 5% de significância que NÃO existe diferença na variância dos tempos das duas turmas estudadas (são homocedásticas).\n",
        "\n",
        "# 2. Sabendo se a amostra é homocedástica ou heterocedástica é possível realizar o teste t para média de duas amostras. (Aplicar teste T correspondente)\n",
        "# H0: mean_1 = mean_2 \n",
        "# H1: mean_1 <> mean_2\n",
        "\n",
        "two_sample_t_test_homocedastico(n_1, n_2, mean_1, mean_2, var_1, var_2, h1_signal='<>', alpha=alpha)"
      ],
      "execution_count": 115,
      "outputs": [
        {
          "output_type": "stream",
          "text": [
            "F =  0.9091401 \n",
            "Fl =  0.3171406 \n",
            "Fr =  3.239263 \n",
            "Resultado =  Aceita H0\n",
            "df =  25 s_comb =  17.6164\n",
            "t_stat =  -2.356786   t_critical =  2.059539 Accept H1? R.:  TRUE\n",
            "p_value <= alpha? p-value = 0.02657463 alpha = 0.05   Accept H1? R.:  TRUE\n",
            "E =  3.329467 IC = [ -7.139467 ;  -0.4805331 ] Accept H1? R.:  TRUE"
          ],
          "name": "stdout"
        }
      ]
    },
    {
      "cell_type": "markdown",
      "metadata": {
        "id": "BzWpriHRiRy_"
      },
      "source": [
        "Exemplo 2:\n",
        "Uma empresa avaliadora de imóveis está estudando as regiões central e oeste da cidade de São Paulo. O\n",
        "objetivo principal é verificar se o preço médio (em R$10.000,00), praticado para imóveis comerciais de um dado\n",
        "tamanho, é o mesmo nas duas áreas. Duas amostras aleatórias foram selecionadas de cada região. As medidas\n",
        "resumo para esse estudo encontram-se a seguir. Considerando-se um nível de 5% de significância, o que você pode concluir?\n",
        "\n",
        "| Região | n | Média | Desvio padrão |\n",
        "| ---| --- | --- | --- |\n",
        "| Central | 20 | 40,2 | 0,7 |\n",
        "| Oeste | 15 | 36,7 | 1,9|"
      ]
    },
    {
      "cell_type": "code",
      "metadata": {
        "colab": {
          "base_uri": "https://localhost:8080/"
        },
        "id": "p0_D3SLxilPp",
        "outputId": "9d074744-8441-4a8c-d4dd-50bf01e32d06"
      },
      "source": [
        "%%R\n",
        "\n",
        "n_1 <- 20\n",
        "n_2 <- 15\n",
        "mean_1 <- 40.2\n",
        "mean_2 <- 36.7\n",
        "var_1 <- 0.7^2\n",
        "var_2 <- 1.9^2\n",
        "alpha <- 0.05\n",
        "\n",
        "# 1. Avaliar se as populações são homocedásticas ou heterocedásticas (por meio do teste F). Onde:\n",
        "# H0: var_1 = var_2 \n",
        "# H1: var_1 <> var_2\n",
        "\n",
        "f_test_to_var(n_1, n_2, var_1, var_2, alpha=alpha)\n",
        "\n",
        "# Podemos concluir a um nível de 5% de significância que EXISTE diferença na variância dos tempos das duas turmas estudadas (são heterocedástica).\n",
        "\n",
        "# 2. Sabendo se a amostra é homocedástica ou heterocedástica é possível realizar o teste t para média de duas amostras. (Aplicar teste T correspondente)\n",
        "# H0: mean_1 = mean_2 \n",
        "# H1: mean_1 <> mean_2\n",
        "\n",
        "two_sample_t_test_heterocedastico(n_1, n_2, mean_1, mean_2, var_1, var_2, h1_signal='<>', alpha=alpha)\n",
        "\n"
      ],
      "execution_count": 116,
      "outputs": [
        {
          "output_type": "stream",
          "text": [
            "F =  0.1357341 \n",
            "Fl =  0.3777965 \n",
            "Fr =  2.860722 \n",
            "Resultado =  Aceita H1\n",
            "t_stat =  6.796864   t_critical =  2.144787 Accept H1? R.:  TRUE\n",
            "p_value <= alpha? p-value = 0.000008640741 alpha = 0.05   Accept H1? R.:  TRUE\n",
            "E =  1.104444 IC = [ 2.395556 ;  4.604444 ] Accept H1? R.:  TRUE"
          ],
          "name": "stdout"
        }
      ]
    },
    {
      "cell_type": "markdown",
      "metadata": {
        "id": "onMBMZ84ilaa"
      },
      "source": [
        "1. Uma nova técnica de impressão 3D foi desenvolvida. Para comparar a eficiência entre a técnica\n",
        "tradicional e a nova técnica foi feita uma análise do tempo de secagem (em minutos). Uma amostra de\n",
        "14 cubos impressos pelo método tradicional (método 1) apontou uma média de 121 minutos e um\n",
        "desvio padrão de 16 minutos. 10 cubos impressos pelo novo método (método 2) indicaram uma média\n",
        "de 112 minutos e um desvio padrão de 15 minutos. Ao nível de significância de 5%, podemos afirmar\n",
        "que existe diferença nos tempos de secagem das duas técnicas? Assuma que os desvios padrões\n",
        "populacionais são iguais.\n",
        "\n",
        "\n",
        "> Hipótese bilateral \\\n",
        "Variância combinada = 243,3194 \\\n",
        "Estatística de teste = 1,39 \\\n",
        "Grau de liberdade = 22 \\\n",
        "Valor p = 0,2 -> Como o valor p é superior ao nível de significância (α) NÃO devemos rejeitar a hipótese nula, ou seja, pode-se afirmar com 5% de significância que não há diferença nos tempos médios de secagem das duas técnicas."
      ]
    },
    {
      "cell_type": "code",
      "metadata": {
        "colab": {
          "base_uri": "https://localhost:8080/"
        },
        "id": "2_SK0xHlixZ5",
        "outputId": "0b682fb8-3c1d-4a52-9e5a-05a28610930c"
      },
      "source": [
        "%%R\n",
        "\n",
        "n_1 <- 14\n",
        "n_2 <- 10\n",
        "mean_1 <- 121\n",
        "mean_2 <- 112\n",
        "var_1 <- 16^2\n",
        "var_2 <- 15^2\n",
        "alpha <- 0.05\n",
        "\n",
        "# 1. Avaliar se as populações são homocedásticas ou heterocedásticas (por meio do teste F). Onde:\n",
        "# H0: var_1 = var_2 \n",
        "# H1: var_1 <> var_2\n",
        "\n",
        "f_test_to_var(n_1, n_2, var_1, var_2, alpha=alpha)\n",
        "\n",
        "# Podemos concluir a um nível de 5% de significância que EXISTE diferença na variância dos tempos das duas turmas estudadas (são heterocedástica).\n",
        "\n",
        "# 2. Sabendo se a amostra é homocedástica ou heterocedástica é possível realizar o teste t para média de duas amostras. (Aplicar teste T correspondente)\n",
        "# H0: mean_1 = mean_2 \n",
        "# H1: mean_1 <> mean_2\n",
        "\n",
        "# two_sample_t_test_heterocedastico(n_1, n_2, mean_1, mean_2, var_1, var_2, h1_signal='<>', alpha=alpha)\n",
        "two_sample_t_test_homocedastico(n_1, n_2, mean_1, mean_2, var_1, var_2, h1_signal='<>', alpha=alpha)"
      ],
      "execution_count": 117,
      "outputs": [
        {
          "output_type": "stream",
          "text": [
            "F =  1.137778 \n",
            "Fl =  3.830596 \n",
            "Fr =  0.3019294 \n",
            "Resultado =  Aceita H1\n",
            "df =  22 s_comb =  243.3182\n",
            "t_stat =  1.393521   t_critical =  2.073873 Accept H1? R.:  FALSE\n",
            "p_value <= alpha? p-value = 0.1773818 alpha = 0.05   Accept H1? R.:  FALSE\n",
            "E =  13.39402 IC = [ -4.394023 ;  22.39402 ] Accept H1? R.:  FALSE"
          ],
          "name": "stdout"
        }
      ]
    },
    {
      "cell_type": "markdown",
      "metadata": {
        "id": "wuyd1OOTiyML"
      },
      "source": [
        "2. Uma empresa realizou um estudo para avaliar o tempo médio de adaptação de funcionários recém\n",
        "formados e de funcionários que atuam no mercado há mais tempo. Foram selecionados aleatoriamente\n",
        "26 recém formados, obtendo-se um tempo médio de adaptação de 2,8 anos e um desvio padrão de 0,6\n",
        "anos.; 26 funcionários que atuam no mercado há mais tempo, obtendo-se um tempo médio de\n",
        "adaptação de 2,3 anos e um desvio padrão de 0,7 anos. Teste a hipótese de que existe diferença entre\n",
        "os tempos médios de adaptação, considerando um nível de 5% de significância. Assuma que os desvios\n",
        "padrões populacionais são iguais.\n",
        "\n",
        "> Hipótese bilateral \\\n",
        "Variância combinada = 0,425 \\\n",
        "Estatística de teste = 2,77 \\\n",
        "Grau de liberdade = 50 \\\n",
        "Valor p = 2x0,005 = 0,010 -> Como o valor p é inferior ao nível de significância (α) devemos rejeitar a hipótese nula, ou seja, pode-se afirmar com 5% de significância que existe diferença entre os tempos médios de  adaptação. \\\n",
        "Intervalo de confiança = [0,133 ; 0,867] -> Como os limites do intervalo apresentam sinal positivo (+) conclui-se que o tempo médio\n",
        "de adaptação dos recém formados é maior do que tempo médio de adaptação dos funcionários que atuam\n",
        "no mercado há mais tempo."
      ]
    },
    {
      "cell_type": "code",
      "metadata": {
        "colab": {
          "base_uri": "https://localhost:8080/"
        },
        "id": "yP5coArDizxt",
        "outputId": "faac33eb-afe0-46bc-ebd5-a5c0367a6401"
      },
      "source": [
        "%%R\n",
        "\n",
        "n_1 <- 26\n",
        "n_2 <- 26\n",
        "mean_1 <- 2.8\n",
        "mean_2 <- 2.3\n",
        "var_1 <- 0.6^2\n",
        "var_2 <- 0.7^2\n",
        "alpha <- 0.05\n",
        "\n",
        "# 1. Avaliar se as populações são homocedásticas ou heterocedásticas (por meio do teste F). Onde:\n",
        "# H0: var_1 = var_2 \n",
        "# H1: var_1 <> var_2\n",
        "\n",
        "f_test_to_var(n_1, n_2, var_1, var_2, alpha=alpha)\n",
        "\n",
        "# Podemos concluir a um nível de 5% de significância que NÃO EXISTE diferença na variância dos tempos das duas turmas estudadas (são heterocedástica).\n",
        "\n",
        "# 2. Sabendo se a amostra é homocedástica ou heterocedástica é possível realizar o teste t para média de duas amostras. (Aplicar teste T correspondente)\n",
        "# H0: mean_1 = mean_2 \n",
        "# H1: mean_1 <> mean_2\n",
        "\n",
        "two_sample_t_test_homocedastico(n_1, n_2, mean_1, mean_2, var_1, var_2, h1_signal='<>', alpha=alpha)"
      ],
      "execution_count": 118,
      "outputs": [
        {
          "output_type": "stream",
          "text": [
            "F =  0.7346939 \n",
            "Fl =  0.4483698 \n",
            "Fr =  2.230302 \n",
            "Resultado =  Aceita H0\n",
            "df =  50 s_comb =  0.425\n",
            "t_stat =  2.765332   t_critical =  2.008559 Accept H1? R.:  TRUE\n",
            "p_value <= alpha? p-value = 0.007944886 alpha = 0.05   Accept H1? R.:  TRUE\n",
            "E =  0.3631679 IC = [ 0.1368321 ;  0.8631679 ] Accept H1? R.:  TRUE"
          ],
          "name": "stdout"
        }
      ]
    },
    {
      "cell_type": "markdown",
      "metadata": {
        "id": "CpUj6vHiiz8g"
      },
      "source": [
        "3. Deseja-se saber se 2 máquinas de empacotar café estão fornecendo o mesmo peso médio em kg.\n",
        "Extraem-se duas amostras, uma de cada máquina (supondo que os pesos das amostras sigam uma\n",
        "distribuição normal):\n",
        "\n",
        "Máquina Nova: 36 amostras, média = 0,81 kg, variância = 0,00020 kg2. \\\n",
        "Máquina Velha: 39 amostras, média = 0,78 kg, variância = 0,00135 kg2.\n",
        "\n",
        "Qual é a sua conclusão a 5% de significância? Assuma que os desvios padrões populacionais são\n",
        "diferentes.\n",
        "\n",
        "> Hipótese bilateral \\\n",
        "Estatística de teste = 4,73 \\\n",
        "Grau de liberdade = 35 \\\n",
        "Valor p = 2x0,0005=0,0010 -> Como o valor p é inferior ao nível de significância (α) devemos rejeitar a hipótese nula, ou seja, pode-se afirmar com 5% de significância que há diferença nos pesos médios dos pacotes das duas máquinas. \\\n",
        "Intervalo de confiança: [0,0171 ; 0,0429] Como os limites do intervalo apresentam sinal positivo (+) conclui-se que o peso médio\n",
        "dos pacotes de café empacotados pela máquina nova é maior do que aqueles empacotados pela máquina\n",
        "velha."
      ]
    },
    {
      "cell_type": "code",
      "metadata": {
        "colab": {
          "base_uri": "https://localhost:8080/"
        },
        "id": "hffgJGxTi5v0",
        "outputId": "03d06f56-9edb-4163-80d5-cca09c8d3f9d"
      },
      "source": [
        "%%R\n",
        "\n",
        "n_1 <- 36\n",
        "n_2 <- 39\n",
        "mean_1 <- 0.81\n",
        "mean_2 <- 0.78\n",
        "var_1 <- 0.00020\n",
        "var_2 <- 0.00135\n",
        "alpha <- 0.05\n",
        "\n",
        "# 1. Avaliar se as populações são homocedásticas ou heterocedásticas (por meio do teste F). Onde:\n",
        "# H0: var_1 = var_2 \n",
        "# H1: var_1 <> var_2\n",
        "\n",
        "f_test_to_var(n_1, n_2, var_1, var_2, alpha=alpha)\n",
        "\n",
        "# Podemos concluir a um nível de 5% de significância que EXISTE diferença na variância dos tempos das duas turmas estudadas (são heterocedástica).\n",
        "\n",
        "# 2. Sabendo se a amostra é homocedástica ou heterocedástica é possível realizar o teste t para média de duas amostras. (Aplicar teste T correspondente)\n",
        "# H0: mean_1 = mean_2 \n",
        "# H1: mean_1 <> mean_2\n",
        "\n",
        "two_sample_t_test_heterocedastico(n_1, n_2, mean_1, mean_2, var_1, var_2, h1_signal='<>', alpha=alpha)"
      ],
      "execution_count": 119,
      "outputs": [
        {
          "output_type": "stream",
          "text": [
            "F =  0.1481481 \n",
            "Fl =  0.5147002 \n",
            "Fr =  1.92543 \n",
            "Resultado =  Aceita H1\n",
            "t_stat =  4.733313   t_critical =  2.030108 Accept H1? R.:  TRUE\n",
            "p_value <= alpha? p-value = 0.00003580874 alpha = 0.05   Accept H1? R.:  TRUE\n",
            "E =  0.01286694 IC = [ 0.01713306 ;  0.04286694 ] Accept H1? R.:  TRUE"
          ],
          "name": "stdout"
        }
      ]
    },
    {
      "cell_type": "markdown",
      "metadata": {
        "id": "e8ZW-kIFi6F-"
      },
      "source": [
        "4. Os dados a seguir referem-se ao conteúdo médio de material sólido em suspensão (mg L-1) nas águas dos rios Verde e Crespo. O material sólido em suspensão difere nos dois rios? Utilize um nível de 5% de\n",
        "significância e assuma que os desvios padrões populacionais são diferentes. Comente o resultado.\n",
        "\n",
        "| Rio Verde | Rio Crespo |\n",
        "| --- | --- |\n",
        "| 210 | 410 |\n",
        "| 242 | 390 |\n",
        "| 226 | 501 |\n",
        "| 268 | 420 |\n",
        "| 251 | 480 |\n",
        "| 206 | 456 |\n",
        "| 218 | 495 |\n",
        "| 215 | 507 |\n",
        "| 207 | 385 |\n",
        "\n",
        "> Rio Verde: n=9, média da amostra = 227 , s=21,9 \\\n",
        "Rio Crespo: n=9, média da amostra = 449,3 , s=48,9 \\\n",
        "Hipótese bilateral \\\n",
        "Estatística de teste = -12,45 \\\n",
        "Grau de liberdade = 8 \\\n",
        "Valor p = 2x0,0005=0,0010 Como o valor p é inferior ao nível de significância (α) devemos rejeitar a hipótese nula, ou seja, pode-se afirmar com 5% de  significância que há diferença no conteúdo médio de material sólido em suspensão (mg L-1) nas águas dos rios Verde e Crespo. \\\n",
        "Intervalo de confiança: Como os limites do intervalo apresentam sinal negativo (-) conclui-se que o conteúdo médio de material\n",
        "sólido em suspensão (mg L-1) nas águas do rio Verde é menor do que nas águas do rio Crespo."
      ]
    },
    {
      "cell_type": "code",
      "metadata": {
        "colab": {
          "base_uri": "https://localhost:8080/"
        },
        "id": "Sm4mbOdDjNXt",
        "outputId": "ea4c2575-9eb0-48cc-e7dc-0a14399f22f6"
      },
      "source": [
        "%%R\n",
        "\n",
        "rio_verde  <- c(210, 242, 226, 268, 251, 206, 218, 215, 207)\n",
        "rio_crespo <- c(410, 390, 501, 420, 480, 456, 495, 507, 385)\n",
        "\n",
        "n_1 <- length(rio_verde)\n",
        "n_2 <- length(rio_crespo)\n",
        "mean_1 <- mean(rio_verde)\n",
        "mean_2 <- mean(rio_crespo)\n",
        "var_1 <- sd(rio_verde)^2\n",
        "var_2 <- sd(rio_crespo)^2\n",
        "alpha <- 0.05\n",
        "\n",
        "cat('Rio Verde n=', n_1, 'média=', mean_1, 'sd=',sd(rio_verde))\n",
        "cat('\\nRio Crespo n=', n_2, 'média=', mean_2, 'sd=',sd(rio_crespo))\n",
        "cat('\\n')\n",
        "# 1. Avaliar se as populações são homocedásticas ou heterocedásticas (por meio do teste F). Onde:\n",
        "# H0: var_1 = var_2 \n",
        "# H1: var_1 <> var_2\n",
        "\n",
        "f_test_to_var(n_1, n_2, var_1, var_2, alpha=alpha)\n",
        "\n",
        "# Podemos concluir a um nível de 5% de significância que EXISTE diferença na variância dos tempos das duas turmas estudadas (são heterocedástica).\n",
        "\n",
        "# 2. Sabendo se a amostra é homocedástica ou heterocedástica é possível realizar o teste t para média de duas amostras. (Aplicar teste T correspondente)\n",
        "# H0: mean_1 = mean_2 \n",
        "# H1: mean_1 <> mean_2\n",
        "\n",
        "two_sample_t_test_heterocedastico(n_1, n_2, mean_1, mean_2, var_1, var_2, h1_signal='<>', alpha=alpha)"
      ],
      "execution_count": 120,
      "outputs": [
        {
          "output_type": "stream",
          "text": [
            "Rio Verde n= 9 média= 227 sd= 21.9032\n",
            "Rio Crespo n= 9 média= 449.3333 sd= 48.90297\n",
            "F =  0.2006063 \n",
            "Fl =  0.2255676 \n",
            "Fr =  4.43326 \n",
            "Resultado =  Aceita H1\n",
            "t_stat =  -12.44773   t_critical =  2.306004 Accept H1? R.:  TRUE\n",
            "p_value <= alpha? p-value = 0.000001620893 alpha = 0.05   Accept H1? R.:  TRUE\n",
            "E =  41.18834 IC = [ -263.5217 ;  -181.145 ] Accept H1? R.:  TRUE"
          ],
          "name": "stdout"
        }
      ]
    },
    {
      "cell_type": "markdown",
      "metadata": {
        "id": "Fwb3lGzBwgDo"
      },
      "source": [
        "## Teste F para duas amostras (variâncias)"
      ]
    },
    {
      "cell_type": "markdown",
      "metadata": {
        "id": "_3KXhXH7w3EH"
      },
      "source": [
        "Um fabricante de esferas para rolamentos desenvolveu um novo método de produção, mais\n",
        "barato. Entretanto, ele desconfia que os novos lotes apresentam variabilidade diferente daqueles\n",
        "produzidos pelo método antigo (com relação ao diâmetro das esferas). Para cada método, ele\n",
        "selecionou uma amostra aleatória. As medidas descritivas para cada método encontram-se a\n",
        "seguir:\n",
        "\n",
        "Método antigo: n1 = 15 ; x̅̅1̅ = 29,93 mm ; sd1 = 0,03 mm2\n",
        "\n",
        "Método novo: n2 = 10 ; x̅̅2̅ = 29,89 mm ; sd2 = 0,19 mm2\n",
        "\n",
        "Nesse exemplo vamos construir o teste bilateral para comparação de duas variâncias para um nível de significância de 5%.\n",
        "Hipóteses estatísticas: \n",
        "- Ho: sd1 = sd2\n",
        "- HA: sd1 ≠ sd2"
      ]
    },
    {
      "cell_type": "code",
      "metadata": {
        "colab": {
          "base_uri": "https://localhost:8080/"
        },
        "id": "ysv4HD1bwxeq",
        "outputId": "01688cf6-e3d0-404a-8563-6aeddcbb9d45"
      },
      "source": [
        "#Rejeitar H0 se: F < Fl ou se F > Fr\n",
        "%%R\n",
        "f_test_to_var(n_1=15, n_2=10, var_1=0.03, var_2=0.19, alpha=0.05)"
      ],
      "execution_count": 121,
      "outputs": [
        {
          "output_type": "stream",
          "text": [
            "F =  0.1578947 \n",
            "Fl =  0.3115944 \n",
            "Fr =  3.797952 \n",
            "Resultado =  Aceita H1"
          ],
          "name": "stdout"
        }
      ]
    },
    {
      "cell_type": "markdown",
      "metadata": {
        "id": "EGKtk2iRx2iL"
      },
      "source": [
        "1. Um analista da qualidade quer avaliar se existe diferença na variabilidade da produção de\n",
        "eixo comando desenvolvido por dois sistemas de usinagem. A tabela a seguir apresenta as\n",
        "medidas descritivas de duas populações independentes com distribuição Normal.\n",
        "Podemos dizer que as variâncias de ambas são iguais? Utilize um nível de significância de\n",
        "5%.\n",
        "\n",
        "> 1. F=0,2225\n",
        "FL = 0,4527\n",
        "FR = 2,154\n",
        "Rejeitar H0 se: F < 0,4527 ou se F > 2,154\n",
        "Como F < FL, rejeitamos a hipótese nula."
      ]
    },
    {
      "cell_type": "code",
      "metadata": {
        "colab": {
          "base_uri": "https://localhost:8080/"
        },
        "id": "NkI7MocUx5Jx",
        "outputId": "8ea315ed-c6d2-4a5e-df06-82b9984a167f"
      },
      "source": [
        "#Rejeitar H0 se: F < Fl ou se F > Fr\n",
        "%%R\n",
        "\n",
        "var_1 <- 1.3623^2\n",
        "var_2 <- 2.8876^2\n",
        "f_test_to_var(n_1=25, n_2=30, var_1, var_2, alpha=0.05)"
      ],
      "execution_count": 122,
      "outputs": [
        {
          "output_type": "stream",
          "text": [
            "F =  0.2225725 \n",
            "Fl =  0.4509699 \n",
            "Fr =  2.154006 \n",
            "Resultado =  Aceita H1"
          ],
          "name": "stdout"
        }
      ]
    },
    {
      "cell_type": "markdown",
      "metadata": {
        "id": "SIF3q1ccx5_E"
      },
      "source": [
        "2. Um consultor de saúde deseja comparar os índices de satisfação dos pacientes de dois\n",
        "hospitais. O consultor coleta as classificações de 20 pacientes para cada um dos hospitais.\n",
        "No hospital A a variância observada foi igual a 66,958 e no hospital B foi de 154,537.\n",
        "Execute um teste de duas variâncias para determinar se os desvios-padrão nas avaliações\n",
        "dos pacientes dos dois hospitais são diferentes. Utilize um nível de significância de 5%.\n",
        "\n",
        "> F=0,4333\n",
        "FL = 0,3959\n",
        "FR = 2,526\n",
        "Rejeitar H0 se: F < 0,3959 ou se F > 2,526\n",
        "Não rejeitamos a hipótese nula."
      ]
    },
    {
      "cell_type": "code",
      "metadata": {
        "colab": {
          "base_uri": "https://localhost:8080/"
        },
        "id": "M1ORS_zfx7jp",
        "outputId": "141bd235-e344-4b72-e6ba-358ac7c0137d"
      },
      "source": [
        "#Rejeitar H0 se: F < Fl ou se F > Fr\n",
        "%%R\n",
        "f_test_to_var(n_1=20, n_2=20, var_1=66.958, var_2=154.537, alpha=0.05)"
      ],
      "execution_count": 123,
      "outputs": [
        {
          "output_type": "stream",
          "text": [
            "F =  0.4332814 \n",
            "Fl =  0.3958122 \n",
            "Fr =  2.526451 \n",
            "Resultado =  Aceita H0"
          ],
          "name": "stdout"
        }
      ]
    },
    {
      "cell_type": "markdown",
      "metadata": {
        "id": "vXVVyQhBwKW_"
      },
      "source": [
        "## Teste unidade 4"
      ]
    },
    {
      "cell_type": "markdown",
      "metadata": {
        "id": "SGesYEIhw_HR"
      },
      "source": [
        "1. Uma revista de viagens de negócios quer classificar os aeroportos internacionais de acordo com a avaliação média da população de pessoas que viajam a negócios. Será usada uma escala de classificação, sendo 0 uma avaliação baixa e 10 uma avaliação elevada, e os aeroportos que receberem uma avaliação média populacional maior que 7 serão designados como aeroportos com um atendimento de alto nível. A equipe da revista pesquisou uma amostra de 27 viajantes de negócios em cada aeroporto para obter os dados da avaliação. A amostra do aeroporto de Londres produziu uma avaliação média igual a 7,25 com desvio padrão igual a 1,052. Os dados indicam que o aeroporto de Londres deveria ser designado como um aeroporto de alto nível? Utilize um nível de 5% de significância."
      ]
    },
    {
      "cell_type": "code",
      "metadata": {
        "colab": {
          "base_uri": "https://localhost:8080/"
        },
        "id": "NbkMUnknwMuX",
        "outputId": "7ece025d-9eb4-4581-97bb-39558de88ea2"
      },
      "source": [
        "%%R\n",
        "mean_0 <- 7\n",
        "n <- 27\n",
        "mean_sample <- 7.25\n",
        "sd <- 1.052\n",
        "alpha <- 0.05\n",
        "\n",
        "# H0: mean_sampĺe <= 7\n",
        "# H1: mean_sampĺe > 7\n",
        "\n",
        "one_sample_t_test(n, sd, mean_sample, mean_0, h1_signal='>', alpha=alpha)"
      ],
      "execution_count": 124,
      "outputs": [
        {
          "output_type": "stream",
          "text": [
            "\n",
            "df =  26\n",
            "t_stat =  1.234827   t_critical =  1.705618 Accept H1? R.:  FALSE\n",
            "p_value <= alpha? p-value = 0.1139692 alpha = 0.05   Accept H1? R.:  FALSE\n",
            "E =  0.3453151 IC = [ 6.654685 ;  7.345315 ] Accept H1? R.:  FALSE"
          ],
          "name": "stdout"
        }
      ]
    },
    {
      "cell_type": "code",
      "metadata": {
        "colab": {
          "base_uri": "https://localhost:8080/"
        },
        "id": "d19ZE4pfy1q-",
        "outputId": "03fae0c4-edc2-493f-b971-cb713f490566"
      },
      "source": [
        "%%R\n",
        "mean_0 <- 7\n",
        "n <- 27\n",
        "mean_sample <- 7.25\n",
        "sd <- 1.052\n",
        "alpha <- 0.05\n",
        "\n",
        "# H0: mean_sampĺe <= 7\n",
        "# H1: mean_sampĺe > 7\n",
        "\n",
        "one_sample_z_test(n, sd, mean_sample, mean_0, h1_signal='>', alpha=alpha)"
      ],
      "execution_count": 125,
      "outputs": [
        {
          "output_type": "stream",
          "text": [
            "\n",
            "z_stat =  1.234827   z_critical =  1.644854 Accept H1? R.:  FALSE\n",
            "p_value <= alpha? p-value = 0.1084474 alpha = 0.05   Accept H1? R.:  FALSE\n",
            "E =  0.3330129 IC = [ 6.916987 ;  7.583013 ] Accept H1? R.:  FALSE"
          ],
          "name": "stdout"
        }
      ]
    },
    {
      "cell_type": "markdown",
      "metadata": {
        "id": "zxk5i4wFxFoi"
      },
      "source": [
        "2. As companhias de seguro de automóvel estão cogitando elevar os prêmios para aqueles que falam ao telefone enquanto dirigem. Um grupo de defesa dos consumidores alega que este problema não é tão sério, porque menos de 10% dos motoristas usam o telefone. Uma companhia de seguro faz uma pesquisa e constata que, entre 500 motoristas selecionados aleatoriamente, 72 usam o telefone. Teste a afirmação do grupo de consumidores ao nível de 2% de significância."
      ]
    },
    {
      "cell_type": "code",
      "metadata": {
        "colab": {
          "base_uri": "https://localhost:8080/"
        },
        "id": "Symvv3J4xHBl",
        "outputId": "36541d80-40fe-42ed-9a8c-a70e5a59b762"
      },
      "source": [
        "%%R\n",
        "pi_0 <- 0.10\n",
        "n <- 500\n",
        "pi <- 72/500\n",
        "alpha <- 0.02\n",
        "\n",
        "# H0: mean_sampĺe >= 10\n",
        "# H1: mean_sampĺe < 10\n",
        "\n",
        "one_sample_z_proportion_test(n, pi, pi_0, h1_signal='<', alpha=alpha)"
      ],
      "execution_count": 126,
      "outputs": [
        {
          "output_type": "stream",
          "text": [
            "n * pi > 5 =  TRUE\n",
            "n * (1 - pi) > 5 =  TRUE\n",
            "\n",
            "z_stat =  3.279566   z_critical =  -2.053749 Accept H1? R.:  FALSE\n",
            "p_value <= alpha? p-value = 0.9994802 alpha = 0.02   Accept H1? R.:  FALSE\n",
            "E =  0.03224634 IC = [ 0.1117537 ;  0.1762463 ] Accept H1? R.:  TRUE"
          ],
          "name": "stdout"
        }
      ]
    },
    {
      "cell_type": "markdown",
      "metadata": {
        "id": "7R36MuOsxHqO"
      },
      "source": [
        "3. Um banco realiza um estudo idealizado para identificar as diferenças na utilização das contas correntes pelos clientes em duas de suas filiais. Uma amostra aleatória de 28 contas correntes é selecionada da filial situada em CG e uma amostra aleatória independente de 22 contas correntes é selecionada da sua filial em BM. O saldo atual da conta corrente é registrado para cada uma das contas. A seguir temos um resumo dos saldos bancários:\n",
        "\n",
        "| | Filial CG | Filial BM | \n",
        "|-- | -- | -- |\n",
        "| Média amostral | 1025 | 910 |\n",
        "| Desvio padrão amostral | 150 | 125 |\n",
        "\n",
        "O saldo médio das contas correntes mantidas pela população de clientes difere entre as duas filiais? Utilize um nível de 5% de significância."
      ]
    },
    {
      "cell_type": "code",
      "metadata": {
        "colab": {
          "base_uri": "https://localhost:8080/"
        },
        "id": "6zADfIU8xapF",
        "outputId": "409f17a8-3b63-4249-a473-14f9692324e6"
      },
      "source": [
        "%%R\n",
        "n_1 <- 28\n",
        "n_2 <- 22\n",
        "mean_1 <- 1025\n",
        "mean_2 <- 910\n",
        "sd_1 <- 150\n",
        "sd_2 <- 125\n",
        "var_1 <- sd_1^2\n",
        "var_2 <- sd_2^2\n",
        "alpha <- 0.5\n",
        "\n",
        "# H0: mean_1 = mean_2\n",
        "# H1: mean_1 <> mean_2\n",
        "\n",
        "\n",
        "# 1. Avaliar se as populações são homocedásticas ou heterocedásticas (por meio do teste F). Onde:\n",
        "# H0: var_1 = var_2 \n",
        "# H1: var_1 <> var_2\n",
        "\n",
        "f_test_to_var(n_1, n_2, var_1, var_2, alpha=alpha)\n",
        "\n",
        "# Podemos concluir a um nível de 5% de significância que EXISTE diferença na variância dos tempos das duas turmas estudadas (são homocedásticas).\n",
        "\n",
        "# 2. Sabendo se a amostra é homocedástica ou heterocedástica é possível realizar o teste t para média de duas amostras. (Aplicar teste T correspondente)\n",
        "# H0: mean_1 = mean_2 \n",
        "# H1: mean_1 <> mean_2\n",
        "\n",
        "two_sample_t_test_heterocedastico(n_1, n_2, mean_1, mean_2, var_1, var_2, h1_signal='<>', alpha=alpha)\n"
      ],
      "execution_count": 127,
      "outputs": [
        {
          "output_type": "stream",
          "text": [
            "F =  1.44 \n",
            "Fl =  1.336221 \n",
            "Fr =  0.7617316 \n",
            "Resultado =  Aceita H1\n",
            "t_stat =  2.955723   t_critical =  0.686352 Accept H1? R.:  TRUE\n",
            "p_value <= alpha? p-value = 0.007546773 alpha = 0.5   Accept H1? R.:  TRUE\n",
            "E =  26.70429 IC = [ 88.29571 ;  141.7043 ] Accept H1? R.:  TRUE"
          ],
          "name": "stdout"
        }
      ]
    },
    {
      "cell_type": "markdown",
      "metadata": {
        "id": "v4v9eybrxbAm"
      },
      "source": [
        "Um experimento (hipotético) sobre o efeito do álcool na habilidade perceptual motora é conduzido. 10 indivíduos são testado duas vezes, uma depois de ter tomado dois drinks e uma depois de tomado dois copos de água. Os dois testes foram realizados em dois dias diferentes para evitar influência do efeito do álcool. Metade dos indivíduos tomou a bebida alcoólica primeiro e a outra metade água. Os escores dos 10 indivíduos são mostrados abaixo. Escores mais altos refletem uma melhor performance. \n",
        "\n",
        "Indivíduo\t1\t2\t3\t4\t5\t6\t7\t8\t9\t10\n",
        "\n",
        "Água\t16\t15\t11\t20\t19\t14\t13\t15\t14\t16\n",
        "\n",
        "Álcool\t13\t13\t12\t16\t16\t11\t10\t15\t9\t16\n",
        "\n",
        "Deseja-se testar se houve alteração na habilidade perceptual motora mediante as duas bebidas testadas. Utilize um nível de significância de 1%."
      ]
    },
    {
      "cell_type": "code",
      "metadata": {
        "colab": {
          "base_uri": "https://localhost:8080/"
        },
        "id": "eCpIJXR3xhxU",
        "outputId": "9badf9ef-7780-448d-954a-cd52d5b98973"
      },
      "source": [
        "%%R\n",
        "\n",
        "agua  <- c(16, 15, 11, 20, 19, 14, 13, 15, 14, 16)\n",
        "alcool <- c(13, 13, 12, 16, 16, 11, 10, 15, 9, 16)\n",
        "t.test(agua, alcool, paired=TRUE, conf.level=0.99, alternative='two.sided')"
      ],
      "execution_count": 128,
      "outputs": [
        {
          "output_type": "stream",
          "text": [
            "\n",
            "\tPaired t-test\n",
            "\n",
            "data:  agua and alcool\n",
            "t = 3.6006, df = 9, p-value = 0.005743\n",
            "alternative hypothesis: true difference in means is not equal to 0\n",
            "99 percent confidence interval:\n",
            " 0.2143177 4.1856823\n",
            "sample estimates:\n",
            "mean of the differences \n",
            "                    2.2 \n",
            "\n"
          ],
          "name": "stdout"
        }
      ]
    },
    {
      "cell_type": "markdown",
      "metadata": {
        "id": "9m6x2y_yxiAb"
      },
      "source": [
        "Em um concurso público promovido por uma empresa estatal, os candidatos às vagas de Engenharia constituem a nossa população de interesse. Entre eles, os que se submeteram a uma preparação específica para o concurso constituem a subpopulação A e os que não fizeram essa preparação constituem a sub-população B. Foram coletadas amostras aleatórias em ambas as sub-populações e os resultados obtidos foram os seguintes:\n",
        "\n",
        "| Sub-população | Tamanho amostral | Aprovados |\n",
        "| -- | -- | -- |\n",
        "| Prepararam-se (A) | 140 | 34 |\n",
        "| Não se prepararam (B) | 230 | 53 |\n",
        "\n",
        "Pode-se dizer que houve diferença na proporção de aprovados entre as duas sub-populações estudadas? Utilize um nível de 10% de significância."
      ]
    },
    {
      "cell_type": "code",
      "metadata": {
        "colab": {
          "base_uri": "https://localhost:8080/"
        },
        "id": "f7H4aTTxxuOx",
        "outputId": "dd4c239d-7fff-4904-8504-9b9572af0e39"
      },
      "source": [
        "%%R\n",
        "\n",
        "\n",
        "two_sample_z_proportion_test(n_1=140, n_2=230, p_1=34/140, p_2=53/230, h1_signal='<>', alpha=0.1)"
      ],
      "execution_count": 129,
      "outputs": [
        {
          "output_type": "stream",
          "text": [
            "p_^ =  0.2351351 \n",
            "\n",
            "z_stat =  0.2732625   z_critical =  1.644854 Accept H1? R.:  FALSE\n",
            "p_value <= alpha? p-value = 0.7846514 alpha = 0.1   Accept H1? R.:  FALSE\n",
            "E =  0.07477412 IC = [ -0.06235176 ;  0.08719648 ] Aceept H1? R.:  FALSE"
          ],
          "name": "stdout"
        }
      ]
    }
  ]
}